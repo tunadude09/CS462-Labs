{
 "cells": [
  {
   "cell_type": "code",
   "execution_count": 59,
   "metadata": {
    "collapsed": true
   },
   "outputs": [],
   "source": [
    "import numpy as np\n",
    "import json\n",
    "import urllib2\n",
    "import time\n"
   ]
  },
  {
   "cell_type": "markdown",
   "metadata": {},
   "source": [
    "Write a script or test harness to test your set up. Ensure your test harness tests the rules and functions you defined by:\n",
    "1)  creating vehicles and deleting at least one vehicle. \n",
    "2)  tests the vehicles by sending them trips. Use the trips and long_trips functions to ensure they are working. You may want to script something with curl to send vehicles a number of random trips for testing purposes. You'll need a variety of trips in the vehicles for the next two parts. \n",
    "3)  tests the vehicle profile to ensure it's getting set reliably."
   ]
  },
  {
   "cell_type": "code",
   "execution_count": 111,
   "metadata": {
    "collapsed": true
   },
   "outputs": [],
   "source": [
    "#  parameters\n",
    "base_url = \"http://localhost:8080/sky/event/\"\n",
    "eci = \"cj3s12aii0002d9g5gwaymev8\""
   ]
  },
  {
   "cell_type": "code",
   "execution_count": 112,
   "metadata": {
    "collapsed": false
   },
   "outputs": [
    {
     "name": "stdout",
     "output_type": "stream",
     "text": [
      "PASSED: empty\n"
     ]
    }
   ],
   "source": [
    "check_cars = base_url + eci + \"/getv/car/get_vehicles\"\n",
    "is_empty = urllib2.urlopen(check_cars).read()\n",
    "#  TODO: check if it's empty\n",
    "if json.loads(is_empty)['directives'][0]['options']['vehicles'] == {}:\n",
    "    print(\"PASSED: empty\")\n",
    "else: print(\"FAILED: not empty\")"
   ]
  },
  {
   "cell_type": "code",
   "execution_count": 114,
   "metadata": {
    "collapsed": false
   },
   "outputs": [
    {
     "name": "stdout",
     "output_type": "stream",
     "text": [
      "PASSED: empty\n",
      "PASSED: first car added\n",
      "PASSED: all cars added\n",
      "PASSED: car was deleted\n"
     ]
    }
   ],
   "source": [
    "check_cars = base_url + eci + \"/getv/car/get_vehicles\"\n",
    "is_empty = urllib2.urlopen(check_cars).read()\n",
    "#  TODO: check if it's empty\n",
    "if json.loads(is_empty)['directives'][0]['options']['vehicles'] == {}:\n",
    "    print(\"PASSED: empty\")\n",
    "else: print(\"FAILED: not empty\")\n",
    "    \n",
    "\n",
    "add_car = base_url + eci + \"/addingnewv/car/new_vehicle?vehicle_id=111&vin=5111\"\n",
    "urllib2.urlopen(add_car).read()\n",
    "time.sleep(0.3)\n",
    "is_car_added = urllib2.urlopen(check_cars).read()\n",
    "if json.loads(is_car_added)['directives'][0]['options']['vehicles'][\"111\"]:\n",
    "    print(\"PASSED: first car added\")\n",
    "else: print(\"FAILED: first car missing\")\n",
    "\n",
    "\n",
    "add_car_2 = base_url + eci + \"/addingnewv/car/new_vehicle?vehicle_id=222&vin=5222\"\n",
    "add_car_3 = base_url + eci + \"/addingnewv/car/new_vehicle?vehicle_id=333&vin=5333\"\n",
    "add_car_4 = base_url + eci + \"/addingnewv/car/new_vehicle?vehicle_id=444&vin=5444\"\n",
    "add_car_5 = base_url + eci + \"/addingnewv/car/new_vehicle?vehicle_id=555&vin=5555\"\n",
    "urllib2.urlopen(add_car_2).read()\n",
    "urllib2.urlopen(add_car_3).read()\n",
    "urllib2.urlopen(add_car_4).read()\n",
    "urllib2.urlopen(add_car_5).read()\n",
    "time.sleep(0.3)\n",
    "how_many_cars = urllib2.urlopen(check_cars).read()\n",
    "try:\n",
    "    json.loads(how_many_cars)['directives'][0]['options']['vehicles']['111']\n",
    "    json.loads(how_many_cars)['directives'][0]['options']['vehicles']['222']\n",
    "    json.loads(how_many_cars)['directives'][0]['options']['vehicles']['333']\n",
    "    json.loads(how_many_cars)['directives'][0]['options']['vehicles']['444']\n",
    "    json.loads(how_many_cars)['directives'][0]['options']['vehicles']['555']\n",
    "    print(\"PASSED: all cars added\")\n",
    "except KeyError:\n",
    "    print(\"FAILED: a car was missing\")\n",
    "\n",
    "\n",
    "remove_car = base_url + eci + \"/test/car/unneeded_vehicle?vehicle_id=111\"\n",
    "urllib2.urlopen(remove_car).read()\n",
    "time.sleep(0.3)\n",
    "is_car_removed = urllib2.urlopen(check_cars).read()\n",
    "try:\n",
    "    json.loads(is_car_removed)['directives'][0]['options']['vehicles']['111']\n",
    "    print(\"FAILED: car wasn't deleted\")\n",
    "except KeyError:\n",
    "    print(\"PASSED: car was deleted\")"
   ]
  },
  {
   "cell_type": "code",
   "execution_count": 108,
   "metadata": {
    "collapsed": false
   },
   "outputs": [
    {
     "data": {
      "text/plain": [
       "'{\"directives\":[{\"options\":{\"vehicles\":{\"555447\":{\"id\":\"cj3u7sdz6005lrag5fj6r6w7g\",\"eci\":\"cj3u7sdz6005mrag53kknkxqu\"}},\"vins\":{\"555447\":\"2323\"}},\"name\":\"vehicles_info\",\"meta\":{\"rid\":\"manage_fleet\",\"rule_name\":\"get_vehicles\",\"txn_id\":\"TODO\",\"eid\":\"findeci\"}}]}'"
      ]
     },
     "execution_count": 108,
     "metadata": {},
     "output_type": "execute_result"
    }
   ],
   "source": [
    "child_picos_eci"
   ]
  },
  {
   "cell_type": "code",
   "execution_count": 115,
   "metadata": {
    "collapsed": false
   },
   "outputs": [],
   "source": [
    "get_ecis = base_url + eci + \"/findeci/car/get_vehicles\"\n",
    "child_picos_eci = urllib2.urlopen(get_ecis).read()\n",
    "\n",
    "eci_1 = json.loads(child_picos_eci)['directives'][0]['options']['vehicles']['333']['eci']\n",
    "eci_2 = json.loads(child_picos_eci)['directives'][0]['options']['vehicles']['444']['eci']"
   ]
  },
  {
   "cell_type": "code",
   "execution_count": 120,
   "metadata": {
    "collapsed": false
   },
   "outputs": [],
   "source": [
    "#  test a single vehilce pico\n",
    "#  first add 2 trips, long and short, test\n",
    "#  then update profie, test\n",
    "\n",
    "def test_child_picos(new_eci):\n",
    "    child_eci = new_eci\n",
    "    check_trips = base_url + child_eci + \"/checktrips/car/return_ent\"\n",
    "\n",
    "\n",
    "    add_short_miles = base_url + child_eci + \"/addshort/car/new_trip?mileage=10&vin=444\"\n",
    "    add_long_miles = base_url + child_eci + \"/addlong/car/new_trip?mileage=200&vin=444\"\n",
    "    urllib2.urlopen(add_short_miles).read()\n",
    "    urllib2.urlopen(add_long_miles).read()\n",
    "    time.sleep(0.3)\n",
    "    trips_added = urllib2.urlopen(check_trips).read()\n",
    "    try:\n",
    "        json.loads(trips_added)['directives'][0]['options']['trips_ent']['0']\n",
    "        json.loads(trips_added)['directives'][0]['options']['trips_ent']['1']\n",
    "        json.loads(trips_added)['directives'][0]['options']['long_ent']['1']\n",
    "        json.loads(trips_added)['directives'][0]['options']['short_ent']['0']\n",
    "        print(\"PASSED: all long and short trips added\")\n",
    "    except KeyError:\n",
    "        print(\"FAILED: a trip was missing or incorrectly classified as long\")\n",
    "\n",
    "\n",
    "\n",
    "    update_threshold = base_url + child_eci + \"/updateprofile/car/profile_updated?vin=777&long_trip_threshold=888\"\n",
    "    urllib2.urlopen(update_threshold).read()\n",
    "    time.sleep(0.3)\n",
    "    check_profile = base_url + child_eci + \"/getprofile/car/profile\"\n",
    "    profile_updated = urllib2.urlopen(check_profile).read()\n",
    "    if  json.loads(profile_updated)['directives'][0]['options']['vin'] == '777' and \\\n",
    "        json.loads(profile_updated)['directives'][0]['options']['long_trip_threshold'] == '888':\n",
    "        print(\"PASSED: profile successfully updated\")\n",
    "    else:\n",
    "        print(\"FAILED: profile not updated\")\n"
   ]
  },
  {
   "cell_type": "code",
   "execution_count": 121,
   "metadata": {
    "collapsed": false
   },
   "outputs": [
    {
     "name": "stdout",
     "output_type": "stream",
     "text": [
      "PASSED: all long and short trips added\n",
      "PASSED: profile successfully updated\n",
      "PASSED: all long and short trips added\n",
      "PASSED: profile successfully updated\n"
     ]
    }
   ],
   "source": [
    "test_child_picos(eci_1)\n",
    "test_child_picos(eci_2)"
   ]
  },
  {
   "cell_type": "code",
   "execution_count": null,
   "metadata": {
    "collapsed": true
   },
   "outputs": [],
   "source": []
  },
  {
   "cell_type": "code",
   "execution_count": null,
   "metadata": {
    "collapsed": true
   },
   "outputs": [],
   "source": []
  },
  {
   "cell_type": "code",
   "execution_count": null,
   "metadata": {
    "collapsed": true
   },
   "outputs": [],
   "source": []
  },
  {
   "cell_type": "code",
   "execution_count": null,
   "metadata": {
    "collapsed": true
   },
   "outputs": [],
   "source": []
  },
  {
   "cell_type": "code",
   "execution_count": null,
   "metadata": {
    "collapsed": true
   },
   "outputs": [],
   "source": []
  },
  {
   "cell_type": "code",
   "execution_count": null,
   "metadata": {
    "collapsed": true
   },
   "outputs": [],
   "source": []
  },
  {
   "cell_type": "code",
   "execution_count": null,
   "metadata": {
    "collapsed": true
   },
   "outputs": [],
   "source": []
  },
  {
   "cell_type": "code",
   "execution_count": null,
   "metadata": {
    "collapsed": true
   },
   "outputs": [],
   "source": []
  },
  {
   "cell_type": "code",
   "execution_count": null,
   "metadata": {
    "collapsed": true
   },
   "outputs": [],
   "source": []
  },
  {
   "cell_type": "code",
   "execution_count": 109,
   "metadata": {
    "collapsed": true
   },
   "outputs": [],
   "source": [
    "#  reset everything\n",
    "\n",
    "remove_car_2 = base_url + eci + \"/addingnewv/car/unneeded_vehicle?vehicle_id=222&vin=5222\"\n",
    "remove_car_3 = base_url + eci + \"/addingnewv/car/unneeded_vehicle?vehicle_id=333&vin=5333\"\n",
    "remove_car_4 = base_url + eci + \"/addingnewv/car/unneeded_vehicle?vehicle_id=444&vin=5444\"\n",
    "remove_car_5 = base_url + eci + \"/addingnewv/car/unneeded_vehicle?vehicle_id=555&vin=5555\"\n",
    "urllib2.urlopen(remove_car_2).read()\n",
    "urllib2.urlopen(remove_car_3).read()\n",
    "urllib2.urlopen(remove_car_4).read()\n",
    "urllib2.urlopen(remove_car_5).read()\n",
    "how_many_cars = urllib2.urlopen(check_cars).read()\n",
    "#  TODO: check if 5 cars have been added\n",
    "\n",
    "\n",
    "\n",
    "reset_car = base_url + eci + \"/test/car/vehicles_reset\"\n",
    "urllib2.urlopen(reset_car).read()\n",
    "is_car_removed = urllib2.urlopen(check_cars).read()\n",
    "#  TODO: check if only 4 cars remain\n",
    "\n",
    "\n",
    "\n"
   ]
  },
  {
   "cell_type": "code",
   "execution_count": 110,
   "metadata": {
    "collapsed": false
   },
   "outputs": [
    {
     "data": {
      "text/plain": [
       "'{\"directives\":[{\"options\":{\"vehicles\":{},\"vins\":{}},\"name\":\"vehicles_info\",\"meta\":{\"rid\":\"manage_fleet\",\"rule_name\":\"get_vehicles\",\"txn_id\":\"TODO\",\"eid\":\"getv\"}}]}'"
      ]
     },
     "execution_count": 110,
     "metadata": {},
     "output_type": "execute_result"
    }
   ],
   "source": [
    "is_car_removed"
   ]
  },
  {
   "cell_type": "code",
   "execution_count": null,
   "metadata": {
    "collapsed": true
   },
   "outputs": [],
   "source": []
  }
 ],
 "metadata": {
  "kernelspec": {
   "display_name": "Python 2",
   "language": "python",
   "name": "python2"
  },
  "language_info": {
   "codemirror_mode": {
    "name": "ipython",
    "version": 2
   },
   "file_extension": ".py",
   "mimetype": "text/x-python",
   "name": "python",
   "nbconvert_exporter": "python",
   "pygments_lexer": "ipython2",
   "version": "2.7.13"
  }
 },
 "nbformat": 4,
 "nbformat_minor": 2
}
